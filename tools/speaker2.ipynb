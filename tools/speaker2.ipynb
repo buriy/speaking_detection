{
 "cells": [
  {
   "cell_type": "code",
   "execution_count": 1,
   "metadata": {},
   "outputs": [],
   "source": [
    "import random\n",
    "import numpy as np\n",
    "import matplotlib.pyplot as plt\n",
    "\n",
    "from __future__ import print_function\n",
    "\n",
    "%matplotlib inline\n",
    "plt.rcParams['figure.figsize'] = (20.0, 8.0) # set default size of plots\n",
    "plt.rcParams['image.interpolation'] = 'nearest'\n",
    "plt.rcParams['image.cmap'] = 'gray'\n",
    "\n",
    "# Магия для того, чтобы notebook автоматически подгружал изменения кода в файлах на диске\n",
    "# http://stackoverflow.com/questions/1907993/autoreload-of-modules-in-ipython\n",
    "%load_ext autoreload\n",
    "%autoreload 2"
   ]
  },
  {
   "cell_type": "code",
   "execution_count": 2,
   "metadata": {},
   "outputs": [],
   "source": [
    "from nn.speaker import Dataset\n",
    "from torchvision import transforms\n",
    "\n",
    "transform = transforms.Compose([\n",
    "        transforms.ToPILImage(),\n",
    "        transforms.Resize(300),\n",
    "        transforms.RandomCrop(224),\n",
    "        transforms.ColorJitter(0.5,0.5,0.5,0.1),\n",
    "        transforms.RandomHorizontalFlip(),\n",
    "        transforms.ToTensor(),\n",
    "#         transforms.Normalize(mean=[0.485, 0.456, 0.406],\n",
    "#                              std=[0.229, 0.224, 0.225])\n",
    "    ])\n"
   ]
  },
  {
   "cell_type": "code",
   "execution_count": 3,
   "metadata": {},
   "outputs": [
    {
     "name": "stderr",
     "output_type": "stream",
     "text": [
      "2732it [00:00, 173871.67it/s]"
     ]
    },
    {
     "name": "stdout",
     "output_type": "stream",
     "text": [
      "Epoch: 12\n"
     ]
    },
    {
     "name": "stderr",
     "output_type": "stream",
     "text": [
      "\n",
      "2732it [00:00, 151455.74it/s]"
     ]
    },
    {
     "name": "stdout",
     "output_type": "stream",
     "text": [
      "good= 2607 bad= 125 accuracy= 0.9542459736456809\n",
      "Epoch: 13\n"
     ]
    },
    {
     "name": "stderr",
     "output_type": "stream",
     "text": [
      "\n",
      "2732it [00:00, 174928.08it/s]"
     ]
    },
    {
     "name": "stdout",
     "output_type": "stream",
     "text": [
      "good= 2586 bad= 146 accuracy= 0.9465592972181552\n",
      "Epoch: 14\n"
     ]
    },
    {
     "name": "stderr",
     "output_type": "stream",
     "text": [
      "\n",
      "2732it [00:00, 123381.81it/s]"
     ]
    },
    {
     "name": "stdout",
     "output_type": "stream",
     "text": [
      "good= 2618 bad= 114 accuracy= 0.958272327964861\n",
      "Epoch: 15\n"
     ]
    },
    {
     "name": "stderr",
     "output_type": "stream",
     "text": [
      "\n",
      "2732it [00:00, 159544.97it/s]"
     ]
    },
    {
     "name": "stdout",
     "output_type": "stream",
     "text": [
      "good= 2588 bad= 144 accuracy= 0.9472913616398243\n",
      "Epoch: 16\n"
     ]
    },
    {
     "name": "stderr",
     "output_type": "stream",
     "text": [
      "\n"
     ]
    },
    {
     "name": "stdout",
     "output_type": "stream",
     "text": [
      "good= 2586 bad= 146 accuracy= 0.9465592972181552\n"
     ]
    }
   ],
   "source": [
    "import tqdm\n",
    "import torch\n",
    "import random\n",
    "from nn.speaker import Net, Dataset, get_speaking_detector\n",
    "\n",
    "DEBUG = 0\n",
    "for e in range(12, 20):\n",
    "    try:\n",
    "        spd = get_speaking_detector(e).cuda(1)\n",
    "    except:\n",
    "        continue\n",
    "    #net = torch.load('../data/speaker/model.e5.pt').cuda(1)\n",
    "    valid_set = Dataset('../data/vidtimit', transform, include=['fadg0'])\n",
    "    r = list(range(len(valid_set)))\n",
    "\n",
    "    good, bad = 0, 0\n",
    "    val = torch.utils.data.DataLoader(dataset=valid_set, batch_size=32, shuffle=True, num_workers=3)\n",
    "    for imgs,labels in val:\n",
    "        #print(imgs)\n",
    "        #plt.imshow(img.permute(1,2,0))\n",
    "        #print(img.shape)\n",
    "        results = spd(imgs.cuda(1))\n",
    "        for l,r in zip(labels, results):\n",
    "            #scores = result.data[0,0].item(), result.data[0,1].item()\n",
    "            #print(l, r)\n",
    "            predicted = r.argmax().item()\n",
    "            #print(label, scores[0], scores[1])\n",
    "            if l.item() == predicted:\n",
    "                good += 1\n",
    "            else:\n",
    "                bad += 1\n",
    "            if (1+good+bad) % 500 == 0 and DEBUG:\n",
    "                print('good=', good, 'bad=', bad, 'accuracy=', (good / (good+bad)))\n",
    "    print('e=', epoch, 'good=', good, 'bad=', bad, 'accuracy=', (good / (good+bad)))\n",
    "    del spd"
   ]
  },
  {
   "cell_type": "code",
   "execution_count": null,
   "metadata": {},
   "outputs": [],
   "source": []
  }
 ],
 "metadata": {
  "kernelspec": {
   "display_name": "Python 3",
   "language": "python",
   "name": "python3"
  },
  "language_info": {
   "codemirror_mode": {
    "name": "ipython",
    "version": 3
   },
   "file_extension": ".py",
   "mimetype": "text/x-python",
   "name": "python",
   "nbconvert_exporter": "python",
   "pygments_lexer": "ipython3",
   "version": "3.6.2"
  }
 },
 "nbformat": 4,
 "nbformat_minor": 2
}
